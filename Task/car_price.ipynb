{
 "cells": [
  {
   "cell_type": "markdown",
   "metadata": {},
   "source": [
    "## IMPORT LIBRARIES"
   ]
  },
  {
   "cell_type": "code",
   "execution_count": 145,
   "metadata": {},
   "outputs": [],
   "source": [
    "import pandas as pd\n",
    "import numpy as np\n",
    "import matplotlib.pyplot as plt\n",
    "import seaborn as sns\n",
    "from sklearn.model_selection import train_test_split\n",
    "from sklearn.preprocessing import StandardScaler,LabelEncoder"
   ]
  },
  {
   "cell_type": "code",
   "execution_count": 236,
   "metadata": {},
   "outputs": [],
   "source": [
    "car_data=pd.read_csv('C:/Users/manoj/Task/cars_price.csv')"
   ]
  },
  {
   "cell_type": "code",
   "execution_count": 6,
   "metadata": {},
   "outputs": [
    {
     "data": {
      "text/html": [
       "<div>\n",
       "<style scoped>\n",
       "    .dataframe tbody tr th:only-of-type {\n",
       "        vertical-align: middle;\n",
       "    }\n",
       "\n",
       "    .dataframe tbody tr th {\n",
       "        vertical-align: top;\n",
       "    }\n",
       "\n",
       "    .dataframe thead th {\n",
       "        text-align: right;\n",
       "    }\n",
       "</style>\n",
       "<table border=\"1\" class=\"dataframe\">\n",
       "  <thead>\n",
       "    <tr style=\"text-align: right;\">\n",
       "      <th></th>\n",
       "      <th>Unnamed: 0</th>\n",
       "      <th>make</th>\n",
       "      <th>model</th>\n",
       "      <th>priceUSD</th>\n",
       "      <th>year</th>\n",
       "      <th>condition</th>\n",
       "      <th>mileage(kilometers)</th>\n",
       "      <th>fuel_type</th>\n",
       "      <th>volume(cm3)</th>\n",
       "      <th>color</th>\n",
       "      <th>transmission</th>\n",
       "      <th>drive_unit</th>\n",
       "      <th>segment</th>\n",
       "    </tr>\n",
       "  </thead>\n",
       "  <tbody>\n",
       "    <tr>\n",
       "      <th>0</th>\n",
       "      <td>0</td>\n",
       "      <td>honda</td>\n",
       "      <td>accord</td>\n",
       "      <td>565</td>\n",
       "      <td>1993</td>\n",
       "      <td>with mileage</td>\n",
       "      <td>960015.0</td>\n",
       "      <td>petrol</td>\n",
       "      <td>2000.0</td>\n",
       "      <td>black</td>\n",
       "      <td>mechanics</td>\n",
       "      <td>front-wheel drive</td>\n",
       "      <td>D</td>\n",
       "    </tr>\n",
       "    <tr>\n",
       "      <th>1</th>\n",
       "      <td>1</td>\n",
       "      <td>ford</td>\n",
       "      <td>fusion</td>\n",
       "      <td>5550</td>\n",
       "      <td>2008</td>\n",
       "      <td>with mileage</td>\n",
       "      <td>172000.0</td>\n",
       "      <td>diesel</td>\n",
       "      <td>1400.0</td>\n",
       "      <td>silver</td>\n",
       "      <td>mechanics</td>\n",
       "      <td>front-wheel drive</td>\n",
       "      <td>M</td>\n",
       "    </tr>\n",
       "    <tr>\n",
       "      <th>2</th>\n",
       "      <td>2</td>\n",
       "      <td>nissan</td>\n",
       "      <td>teana</td>\n",
       "      <td>8300</td>\n",
       "      <td>2008</td>\n",
       "      <td>with mileage</td>\n",
       "      <td>223000.0</td>\n",
       "      <td>petrol</td>\n",
       "      <td>2500.0</td>\n",
       "      <td>purple</td>\n",
       "      <td>auto</td>\n",
       "      <td>front-wheel drive</td>\n",
       "      <td>D</td>\n",
       "    </tr>\n",
       "    <tr>\n",
       "      <th>3</th>\n",
       "      <td>3</td>\n",
       "      <td>volkswagen</td>\n",
       "      <td>fox</td>\n",
       "      <td>3300</td>\n",
       "      <td>2005</td>\n",
       "      <td>with mileage</td>\n",
       "      <td>140000.0</td>\n",
       "      <td>petrol</td>\n",
       "      <td>1200.0</td>\n",
       "      <td>blue</td>\n",
       "      <td>mechanics</td>\n",
       "      <td>front-wheel drive</td>\n",
       "      <td>A</td>\n",
       "    </tr>\n",
       "    <tr>\n",
       "      <th>4</th>\n",
       "      <td>4</td>\n",
       "      <td>nissan</td>\n",
       "      <td>primera</td>\n",
       "      <td>2450</td>\n",
       "      <td>2002</td>\n",
       "      <td>with damage</td>\n",
       "      <td>413000.0</td>\n",
       "      <td>diesel</td>\n",
       "      <td>2200.0</td>\n",
       "      <td>burgundy</td>\n",
       "      <td>mechanics</td>\n",
       "      <td>front-wheel drive</td>\n",
       "      <td>D</td>\n",
       "    </tr>\n",
       "  </tbody>\n",
       "</table>\n",
       "</div>"
      ],
      "text/plain": [
       "   Unnamed: 0        make    model  priceUSD  year     condition  \\\n",
       "0           0       honda   accord       565  1993  with mileage   \n",
       "1           1        ford   fusion      5550  2008  with mileage   \n",
       "2           2      nissan    teana      8300  2008  with mileage   \n",
       "3           3  volkswagen      fox      3300  2005  with mileage   \n",
       "4           4      nissan  primera      2450  2002   with damage   \n",
       "\n",
       "   mileage(kilometers) fuel_type  volume(cm3)     color transmission  \\\n",
       "0             960015.0    petrol       2000.0     black    mechanics   \n",
       "1             172000.0    diesel       1400.0    silver    mechanics   \n",
       "2             223000.0    petrol       2500.0    purple         auto   \n",
       "3             140000.0    petrol       1200.0      blue    mechanics   \n",
       "4             413000.0    diesel       2200.0  burgundy    mechanics   \n",
       "\n",
       "          drive_unit segment  \n",
       "0  front-wheel drive       D  \n",
       "1  front-wheel drive       M  \n",
       "2  front-wheel drive       D  \n",
       "3  front-wheel drive       A  \n",
       "4  front-wheel drive       D  "
      ]
     },
     "execution_count": 6,
     "metadata": {},
     "output_type": "execute_result"
    }
   ],
   "source": [
    "car_data.head()"
   ]
  },
  {
   "cell_type": "code",
   "execution_count": 7,
   "metadata": {},
   "outputs": [
    {
     "data": {
      "text/plain": [
       "Unnamed: 0               int64\n",
       "make                    object\n",
       "model                   object\n",
       "priceUSD                 int64\n",
       "year                     int64\n",
       "condition               object\n",
       "mileage(kilometers)    float64\n",
       "fuel_type               object\n",
       "volume(cm3)            float64\n",
       "color                   object\n",
       "transmission            object\n",
       "drive_unit              object\n",
       "segment                 object\n",
       "dtype: object"
      ]
     },
     "execution_count": 7,
     "metadata": {},
     "output_type": "execute_result"
    }
   ],
   "source": [
    "car_data.dtypes"
   ]
  },
  {
   "cell_type": "code",
   "execution_count": 8,
   "metadata": {},
   "outputs": [
    {
     "data": {
      "text/html": [
       "<div>\n",
       "<style scoped>\n",
       "    .dataframe tbody tr th:only-of-type {\n",
       "        vertical-align: middle;\n",
       "    }\n",
       "\n",
       "    .dataframe tbody tr th {\n",
       "        vertical-align: top;\n",
       "    }\n",
       "\n",
       "    .dataframe thead th {\n",
       "        text-align: right;\n",
       "    }\n",
       "</style>\n",
       "<table border=\"1\" class=\"dataframe\">\n",
       "  <thead>\n",
       "    <tr style=\"text-align: right;\">\n",
       "      <th></th>\n",
       "      <th>Unnamed: 0</th>\n",
       "      <th>priceUSD</th>\n",
       "      <th>year</th>\n",
       "      <th>mileage(kilometers)</th>\n",
       "      <th>volume(cm3)</th>\n",
       "    </tr>\n",
       "  </thead>\n",
       "  <tbody>\n",
       "    <tr>\n",
       "      <th>count</th>\n",
       "      <td>40000.00000</td>\n",
       "      <td>40000.000000</td>\n",
       "      <td>40000.000000</td>\n",
       "      <td>4.000000e+04</td>\n",
       "      <td>39970.000000</td>\n",
       "    </tr>\n",
       "    <tr>\n",
       "      <th>mean</th>\n",
       "      <td>19999.50000</td>\n",
       "      <td>7430.383775</td>\n",
       "      <td>2003.485625</td>\n",
       "      <td>2.434332e+05</td>\n",
       "      <td>2103.201676</td>\n",
       "    </tr>\n",
       "    <tr>\n",
       "      <th>std</th>\n",
       "      <td>11547.14972</td>\n",
       "      <td>8338.242134</td>\n",
       "      <td>8.114896</td>\n",
       "      <td>3.167033e+05</td>\n",
       "      <td>938.724653</td>\n",
       "    </tr>\n",
       "    <tr>\n",
       "      <th>min</th>\n",
       "      <td>0.00000</td>\n",
       "      <td>95.000000</td>\n",
       "      <td>1938.000000</td>\n",
       "      <td>0.000000e+00</td>\n",
       "      <td>500.000000</td>\n",
       "    </tr>\n",
       "    <tr>\n",
       "      <th>25%</th>\n",
       "      <td>9999.75000</td>\n",
       "      <td>2350.000000</td>\n",
       "      <td>1998.000000</td>\n",
       "      <td>1.370000e+05</td>\n",
       "      <td>1600.000000</td>\n",
       "    </tr>\n",
       "    <tr>\n",
       "      <th>50%</th>\n",
       "      <td>19999.50000</td>\n",
       "      <td>5350.000000</td>\n",
       "      <td>2004.000000</td>\n",
       "      <td>2.280000e+05</td>\n",
       "      <td>1995.000000</td>\n",
       "    </tr>\n",
       "    <tr>\n",
       "      <th>75%</th>\n",
       "      <td>29999.25000</td>\n",
       "      <td>9850.000000</td>\n",
       "      <td>2010.000000</td>\n",
       "      <td>3.087610e+05</td>\n",
       "      <td>2300.000000</td>\n",
       "    </tr>\n",
       "    <tr>\n",
       "      <th>max</th>\n",
       "      <td>39999.00000</td>\n",
       "      <td>195000.000000</td>\n",
       "      <td>2019.000000</td>\n",
       "      <td>9.999999e+06</td>\n",
       "      <td>20000.000000</td>\n",
       "    </tr>\n",
       "  </tbody>\n",
       "</table>\n",
       "</div>"
      ],
      "text/plain": [
       "        Unnamed: 0       priceUSD          year  mileage(kilometers)  \\\n",
       "count  40000.00000   40000.000000  40000.000000         4.000000e+04   \n",
       "mean   19999.50000    7430.383775   2003.485625         2.434332e+05   \n",
       "std    11547.14972    8338.242134      8.114896         3.167033e+05   \n",
       "min        0.00000      95.000000   1938.000000         0.000000e+00   \n",
       "25%     9999.75000    2350.000000   1998.000000         1.370000e+05   \n",
       "50%    19999.50000    5350.000000   2004.000000         2.280000e+05   \n",
       "75%    29999.25000    9850.000000   2010.000000         3.087610e+05   \n",
       "max    39999.00000  195000.000000   2019.000000         9.999999e+06   \n",
       "\n",
       "        volume(cm3)  \n",
       "count  39970.000000  \n",
       "mean    2103.201676  \n",
       "std      938.724653  \n",
       "min      500.000000  \n",
       "25%     1600.000000  \n",
       "50%     1995.000000  \n",
       "75%     2300.000000  \n",
       "max    20000.000000  "
      ]
     },
     "execution_count": 8,
     "metadata": {},
     "output_type": "execute_result"
    }
   ],
   "source": [
    "car_data.describe()"
   ]
  },
  {
   "cell_type": "code",
   "execution_count": 9,
   "metadata": {},
   "outputs": [
    {
     "name": "stdout",
     "output_type": "stream",
     "text": [
      "<class 'pandas.core.frame.DataFrame'>\n",
      "RangeIndex: 40000 entries, 0 to 39999\n",
      "Data columns (total 13 columns):\n",
      " #   Column               Non-Null Count  Dtype  \n",
      "---  ------               --------------  -----  \n",
      " 0   Unnamed: 0           40000 non-null  int64  \n",
      " 1   make                 40000 non-null  object \n",
      " 2   model                40000 non-null  object \n",
      " 3   priceUSD             40000 non-null  int64  \n",
      " 4   year                 40000 non-null  int64  \n",
      " 5   condition            40000 non-null  object \n",
      " 6   mileage(kilometers)  40000 non-null  float64\n",
      " 7   fuel_type            40000 non-null  object \n",
      " 8   volume(cm3)          39970 non-null  float64\n",
      " 9   color                40000 non-null  object \n",
      " 10  transmission         40000 non-null  object \n",
      " 11  drive_unit           38655 non-null  object \n",
      " 12  segment              36245 non-null  object \n",
      "dtypes: float64(2), int64(3), object(8)\n",
      "memory usage: 4.0+ MB\n"
     ]
    }
   ],
   "source": [
    "car_data.info()"
   ]
  },
  {
   "cell_type": "markdown",
   "metadata": {},
   "source": [
    "## DATA VISUALIZATION"
   ]
  },
  {
   "cell_type": "markdown",
   "metadata": {},
   "source": [
    "the priceUSD is right skewed"
   ]
  },
  {
   "cell_type": "code",
   "execution_count": 17,
   "metadata": {
    "scrolled": true
   },
   "outputs": [
    {
     "name": "stderr",
     "output_type": "stream",
     "text": [
      "C:\\Users\\manoj\\anaconda3\\envs\\test_env\\lib\\site-packages\\seaborn\\distributions.py:2551: FutureWarning: `distplot` is a deprecated function and will be removed in a future version. Please adapt your code to use either `displot` (a figure-level function with similar flexibility) or `histplot` (an axes-level function for histograms).\n",
      "  warnings.warn(msg, FutureWarning)\n"
     ]
    },
    {
     "data": {
      "text/plain": [
       "<AxesSubplot:xlabel='priceUSD', ylabel='Density'>"
      ]
     },
     "execution_count": 17,
     "metadata": {},
     "output_type": "execute_result"
    },
    {
     "data": {
      "image/png": "[encoded data removed]",
      "text/plain": [
       "<Figure size 432x288 with 1 Axes>"
      ]
     },
     "metadata": {
      "needs_background": "light"
     },
     "output_type": "display_data"
    }
   ],
   "source": [
    "sns.distplot(car_data['priceUSD'])"
   ]
  },
  {
   "cell_type": "markdown",
   "metadata": {},
   "source": [
    "As the year increased price also increased,but towards the end of the year there is a decrease in price"
   ]
  },
  {
   "cell_type": "code",
   "execution_count": 10,
   "metadata": {},
   "outputs": [
    {
     "data": {
      "image/png": "[encoded data removed]",
      "text/plain": [
       "<Figure size 432x288 with 1 Axes>"
      ]
     },
     "metadata": {
      "needs_background": "light"
     },
     "output_type": "display_data"
    }
   ],
   "source": [
    "car_data.groupby(['year']).sum()['priceUSD'].plot()\n",
    "plt.xlabel('YEAR')\n",
    "plt.ylabel('PRICE')\n",
    "plt.show()"
   ]
  },
  {
   "cell_type": "code",
   "execution_count": 13,
   "metadata": {},
   "outputs": [
    {
     "data": {
      "text/plain": [
       "petrol        25869\n",
       "diesel        14101\n",
       "electrocar       30\n",
       "Name: fuel_type, dtype: int64"
      ]
     },
     "execution_count": 13,
     "metadata": {},
     "output_type": "execute_result"
    }
   ],
   "source": [
    "car_data['fuel_type'].value_counts()"
   ]
  },
  {
   "cell_type": "code",
   "execution_count": 16,
   "metadata": {},
   "outputs": [
    {
     "name": "stderr",
     "output_type": "stream",
     "text": [
      "C:\\Users\\manoj\\anaconda3\\envs\\test_env\\lib\\site-packages\\seaborn\\_decorators.py:43: FutureWarning: Pass the following variable as a keyword arg: x. From version 0.12, the only valid positional argument will be `data`, and passing other arguments without an explicit keyword will result in an error or misinterpretation.\n",
      "  FutureWarning\n"
     ]
    },
    {
     "data": {
      "text/plain": [
       "<AxesSubplot:xlabel='fuel_type', ylabel='count'>"
      ]
     },
     "execution_count": 16,
     "metadata": {},
     "output_type": "execute_result"
    },
    {
     "data": {
      "image/png": "[encoded data removed]",
      "text/plain": [
       "<Figure size 432x288 with 1 Axes>"
      ]
     },
     "metadata": {
      "needs_background": "light"
     },
     "output_type": "display_data"
    }
   ],
   "source": [
    "sns.countplot(car_data['fuel_type'])"
   ]
  },
  {
   "cell_type": "code",
   "execution_count": 31,
   "metadata": {},
   "outputs": [
    {
     "data": {
      "text/plain": [
       "volkswagen      4943\n",
       "audi            2849\n",
       "bmw             2839\n",
       "opel            2662\n",
       "renault         2650\n",
       "                ... \n",
       "jac                1\n",
       "aston-martin       1\n",
       "saipa              1\n",
       "bogdan             1\n",
       "byd                1\n",
       "Name: make, Length: 93, dtype: int64"
      ]
     },
     "execution_count": 31,
     "metadata": {},
     "output_type": "execute_result"
    }
   ],
   "source": [
    "car_data['make'].value_counts()"
   ]
  },
  {
   "cell_type": "code",
   "execution_count": 21,
   "metadata": {},
   "outputs": [
    {
     "data": {
      "text/plain": [
       "array(['accord', 'fusion', 'teana', 'fox', 'primera', 'x-trail', 'galant',\n",
       "       'golf', 'passat', 'vel-satis', 'a6', 'matiz', 'land-cruiser',\n",
       "       'outlander', 'vectra', 'zafira', 'megane', 'lacetti', 'laguna',\n",
       "       'sharan', 'c-klass', 'rx', '7-seriya', '80', '5-seriya', 'omega',\n",
       "       '21', 'xc70', 'epica', 'multivan', 'lancer', 'xj', 'fusion-usa',\n",
       "       'grand-vitara', 'clio', 'vesta', 'santa-fe', 'xc90', 's-klass',\n",
       "       'e-klass', 'c8', 'previa', '166', 'swift', 'b-klass', 'mpv',\n",
       "       'patrol', 'c4-grand-picasso', 'rc', 's80', 'range-rover',\n",
       "       '3-seriya', 'touareg', '9-5', 'bluebird', 'touran', 'meriva',\n",
       "       'focus', '69', 'fit', 'soul', 'transporter', '626', '3', 'clarus',\n",
       "       'mokka', 'a4', 'viano', 'carisma', 'xsara', 'c3-picasso', 'civic',\n",
       "       'musso', 'emgrand-x7', 'astra', 'accent', 'duster', 'marea', '308',\n",
       "       '100', 'c-max', '19', '306', 'sunny', '323', 'i40', 'shuma',\n",
       "       'hiace', 'q3', 'pajero', 'palio', 'c4', 'explorer', 'passat-cc',\n",
       "       'scenic', 'solaris', 'nubira', 'insignia', 'mondeo', 'polo', 'tt',\n",
       "       'i30', 'xf', 's40', 'cl', '600', '6', 'caddy', '307', '408',\n",
       "       'octavia', 'ibiza', 'note', '400', 'sorento', 'berlingo',\n",
       "       'polo-sedan', 'sx4', 'l200', '75', 'caravelle', 'signum', 'a8',\n",
       "       'sedici', 'x5', 'cs35', 'c4-picasso', 'fabia', 'x3', '406', '605',\n",
       "       'linea', 'aveo', 'escape', 'q7', '207', 'freelander', 'auris',\n",
       "       'avensis', 'partner', '3008', 'sonata', 'symbol', 'cr-v',\n",
       "       'corolla-verso', 'leon', 'escalade', 'forester', 'espace', '2106',\n",
       "       'c3', 'carens', 'a6-allroad', 's5', 'xsara-picasso', 'x6', '156',\n",
       "       'brava', 'rio', '469', 'a2', 'volt', 'm-klass', '607', 'niva',\n",
       "       'leganza', 'galaxy', '2140', 'range-rover-sport', 'almera-tino',\n",
       "       'ascona', 'tucson', 'xantia', 'kangoo', 'corolla', '2104', 'cx-5',\n",
       "       'r-klass', 'camry', 'myway', 'highlander', 'corsa', 'carina-e',\n",
       "       'prius', 'a-klass', 'voyager', 'cruze', 'gran-turismo', 's60',\n",
       "       'encore', '146', 'c5', 'q5', 'xc60', 's-type', 'golf-gti', '407',\n",
       "       'rav4', 'glc', 'vito', 'gl-klass', 'windstar', '2105',\n",
       "       'space-star', 'ecosport', 'cx-7', 'cordoba', 'punto', 'almera',\n",
       "       '2108', 'fiesta', 'ulysse', 'm', 'pathfinder', 'c-elysee',\n",
       "       'grand-scenic', 'juke', 'cls', '2131-niva', 'dokker', 'terrano',\n",
       "       'jetta', 'phaeton', '159', 'pacifica', 'ka', 'a3', 'qashqai',\n",
       "       'qx60', 'vaneo', 'actyon', 'versa', '206', 'impreza', 'lupo',\n",
       "       'envoy', 'sandero', 'concorde', 'yaris', '21099', 'cx-9', 'rapid',\n",
       "       's-max', 'v40', '4runner', '208', '460', 'caddy-maxi', 'venga',\n",
       "       'cayenne', 'mdx', 'gle', 'superb', '190-w201', 'mb', 'qx70',\n",
       "       'shuttle', 'yeti', 'rexton', 'golf-plus', 'santamo', 'cts',\n",
       "       '1-seriya', 'h-1-starex', 'serena', 'escort', 'navara', '2111',\n",
       "       'trax', 'clk', '9-3', 'verso', '6-seriya', '5008', 'v8', 'colt',\n",
       "       'getz', 'vibe', 'seicento', '806', 'murano', 'sienna', 'mk-cross',\n",
       "       'grand-c-max', '2110', 'space-wagon', '2101', 'evasion', 'safrane',\n",
       "       'sentra', '2109', 'alhambra', 'tribute', 'kuga', '200', 'spectra',\n",
       "       '807', 'grand-cherokee', 'ceed', 'v70', 'lantra', 'citan',\n",
       "       'protege', 'transit-connect', '106', 'agila', 'safe', '2112',\n",
       "       '2008', 'x5m', 'a5', 'cerato', 'c-crosser', 'colorado', 'kaptur',\n",
       "       'equinox', '2115', '405', '401', 'insight', '9000', 'pick-up',\n",
       "       'xedos-6', 'tiburon', 'twingo', 'leaf', 'vento', 'avensis-verso',\n",
       "       '164', 'terracan', 'leone', 'bora', 'orion', 'felicia', 'patriot',\n",
       "       'cavalier', 'grand-voyager', 'matrix', 'eclipse', 'spark',\n",
       "       'fortwo', 'prairie', 'expert', 'equus', 'kalina', 'liberty',\n",
       "       'forenza', 'sportage', 'terrain', 'logan', 'pt-cruiser', 'combo',\n",
       "       'nexia', '25', 'mi-do', 'tiguan', 'espero', 'korando', 'croma',\n",
       "       'toledo', 'kyron', 'town-and-country', 'fluence', 'gs', 'trafic',\n",
       "       'tsx', '3000gt', 'scorpio', 's90', 'discovery', 'frontera',\n",
       "       'grand-espace', 'macan', 'antara', 'cougar', 'tourneo-connect',\n",
       "       'quest', '107', '323f', 'sintra', 'vezdehod', 'outback', 'cooper',\n",
       "       'florid', 'ix35', 'neon', 'asx', 'picanto', '2107', 'h60', '1302',\n",
       "       'sephia', '967', 'pointer', 'express', 'clio-rs', 'element', '750',\n",
       "       'maxima', '969', 'm5', 'persona', '3110', '4-seriya', 'a7', 'c2',\n",
       "       '2715', 'g-klass', 'is', 'cherokee', 'captiva', 'qx50', 'cobalt',\n",
       "       'transit-custom', 'legend', 'qashqai-2', 'legacy', 'fx',\n",
       "       'passat-usa', 'chance', 'nemo', 'i3', '45', 'cla', 'es', 'contour',\n",
       "       'z3', 'mohave', 'jumpy', 'splash', 'galloper',\n",
       "       '2-seriya-active-tourer', 'pajero-sport', 'koleos', 'malibu',\n",
       "       'sierra', 'feroza', 'tiggo', '24', 'micra', 'beetle', 'panda',\n",
       "       'aygo', 'lodgy', '2102', '1102-tavriya', 'liana', 'g', 'glk',\n",
       "       'ds5', 'tahoe', 'sirion', 'camaro', 'retro', 'uno', 'premacy',\n",
       "       '11', 'xray', '31105', 'mk', 'de-ville', 'q30', 'granta', 'scudo',\n",
       "       'largus', 'lobo', '147', 'i20', 'roomster', 'renegade', 'picnic',\n",
       "       'delta', 'coupe', 'carina', 'xterra', '440', 'retona', 'c6',\n",
       "       'avtodom', 'hilux', 'rogue', 'land-cruiser-prado', 'rodius',\n",
       "       'tiida', 'stilo', 'tacuma', 'hover', 'x1', 'probe', 'altea',\n",
       "       '2121-niva', 'hover-h3', 'lybra', 'cls-amg', 'trajet', 'sebring',\n",
       "       'solano', '2', 'sigma', 'kadjar', 'carry', 'volga-siber',\n",
       "       'millenia', 'm3', 'i8', 'trailblazer', '740', 'm6', 'tempra', '5',\n",
       "       'odyssey', 'creta', 'maverick', 'blazer', 'vision', 'ssr', '2203',\n",
       "       '911', '940', 'x70', 'xedos-9', 'x50', 'elantra', 'justy', 'doblo',\n",
       "       'traveller', 'range-rover-velar', 'hr-v', 'multipla', 'kadett',\n",
       "       'grandis', 'mustang', 'ex', '2113', 'hover-h5', 'v60', 'on-do',\n",
       "       '121', 'campo', '31', 'gls', 'montero', 'tl', 'fr-v', 'emgrand-7',\n",
       "       'a13', 'rsx', 'ls', 'v50', 'srx', 'altima', 'panamera', '968',\n",
       "       'lanos', 'nx', 'x6m', 'x7', 'lumina', 'carnival',\n",
       "       '2-seriya-gran-tourer', '2103', 'bx', 'econoline', 'talisman',\n",
       "       'sequoia', 'qq', '2141', 'discovery-sport', '31029', 's6',\n",
       "       'paceman', 'sc7', 'tundra', 'rezzo', 'iq', 'c81', 'ds4', 'x2',\n",
       "       'wrangler', 'gla-amg', 'mkc', 'lx', 'defender', 'echo', 'atlas',\n",
       "       'camry-solara', 'midi', 'bravo', 'optima', 'trooper', 'qx56',\n",
       "       'range-rover-evoque', 'cirrus', 'vivaro', 'pride', 'venza',\n",
       "       'celica', 'baleno', 'paseo', 'space-runner', 'm-20-pobeda', '2206',\n",
       "       'venture', 'rl', 'compass', 'v-klass', '508', '452', '2-seriya',\n",
       "       '965', 'mirage', 'atos', '301', 'excursion', '300m', 'xv', '145',\n",
       "       'zdx', 'i10', 'sc', 'clubman', 'fora', 'xc40', 'prius-v-plus',\n",
       "       'xm', 'montero-sport', 'talento', '90', 'samand', 'e-klass-amg',\n",
       "       'space-gear', 'golf-r32', 'dedra', 'tourneo-courier', '300s',\n",
       "       'rx-8', 'kodiaq', 'zeta', 'cr-z', '240-series', 'town-car',\n",
       "       'hover-m4', 's8', 'bipper', 'gx', 'orlando', 'xe', 'x4', 'mkz',\n",
       "       'c70', 'delica', 'tc', 'rekord', 'pajero-pinin', 'm-klass-amg',\n",
       "       'amulet', 'taurus', 'quoris', 'gl-klass-amg', 'vue', 'vanette',\n",
       "       'up', 'ct', '850', 'lancer-evolution', '800', 'ignis',\n",
       "       'continental', 'tipo', 'eclipse-cross', '300-series', 'eldorado',\n",
       "       'edge', 'h9', 'lhs', 'jimmy', 'bt-50', 'besta', '3909', 'ck',\n",
       "       'tourneo-custom', 'granada', 'enclave', 'gle-coupe', 'scenic-rx4',\n",
       "       'v90', 'rdx', 'hunter', 'd-max', '2717', 'almera-classic', '500l',\n",
       "       '205', 'catera', 'libero', 'pixo', 'g-klass-amg', 'freestyle',\n",
       "       'amarok', 'countryman', 'intrepid', 'nexia-r3', 'stratus',\n",
       "       'gle-coupe-amg', 'grande-punto', 'forte', '3111', 'a1', 'ix55',\n",
       "       'model-s', 'slk', 'istana', 'centennial', 'f-type', 'courier',\n",
       "       'joice', '100nx', 'lite-ace', 'gentra', 'grandeur', 'c4-cactus',\n",
       "       'silverado', '550', 'sts', 'f-150', '2363-pikap', '403',\n",
       "       'punto-evo', 'latitude', 'glc-coupe', 'quattroporte', 'r4',\n",
       "       'cebrium', 'kappa', 'eos', '2125', 'tigra', 'elr', 'thesis',\n",
       "       'cx-3', 'sable', 'yaris-verso', 'concerto', 's-coupe', 'baggi',\n",
       "       'prius-c', 'monterey', 'tingo', 'teramont', 'sl', 'vitara',\n",
       "       'tiggo-2', 'xl-7', 'lc-cross', 'regata', 'verso-s', 'move', 'tlx',\n",
       "       'pilot', 'demio', 'breez', 'actyon-sports', 'primastar',\n",
       "       's-klass-amg', 'cuore', '353', 'phedra', 'wagon-r', 'tiggo-5',\n",
       "       'arosa', '9', 'f-350', 'kizashi', 'c1', 'gt', 'albea', '760',\n",
       "       'kart', 'tts', '9-7x', 'cube', '500', 'ridgeline', 'cla-amg',\n",
       "       'sunbird', 'jazz', 'roadster', 'grand-santa-fe', 'ypsilon', '402',\n",
       "       's70', 'scirocco', 'gla', 'freemont', 'b-max', 'golf-sportsvan',\n",
       "       'f-pace', 'aspen', 'voennaya-tehnika', 'safari', 'mx-6', 't600',\n",
       "       'forfour', 'rodeo', 'avalanche', '410', 'astro', 's4', '1007',\n",
       "       'alphard', 'thunderbird', 'kalos', 'estina', 'gtv', 'clc',\n",
       "       'pregio', 'tiba', 'econovan', 'mx-3', 'xg', '88', '309', 's7',\n",
       "       'a4-allroad', 'equator', '929', 'forman', 'baja', 'ilx', 'santana',\n",
       "       'arrizo-7', '924', 'redkaya-model', 'alto', 'aerio', 'deer',\n",
       "       'endeavor', 'forza', 'gran-move', 'sl-amg', 'trezia', 'mulsanne',\n",
       "       'ds3', 'yrv', 'malaga', '900', 'a-klass-amg', 'x-90', 'mark-ii',\n",
       "       'rs6', 'materia', 'qq6', 'samodelnyj', 'model-x', 'besturn-b50',\n",
       "       'golf-r', 'rendezvous', 'c30', 'sport', '505', 'hatch', 'kimo',\n",
       "       'hhr', 'cl-amg', 'crosstour', 'cherry', 'musa', 'savana',\n",
       "       'bentayga', 'refine', 'favorit', 'lacrosse', 'commander', 'mr2',\n",
       "       'q50', 'sens', 'ion', 'le-baron', '67', 'r2', 'exeo', 'maybach',\n",
       "       'streetwise', 'cosmo', 'fortuner', 'tribeca', 'stream',\n",
       "       '1103-slavuta', 'aztek', 'avella', 'mariner', 'crossfire', 'simbo',\n",
       "       'ranger', 'verona', 'focus-st', 'tuscani', 'cayman', 'q70', 'saxo',\n",
       "       'qx4', 'c4-aircross', 'wrx', 'suburban', 'festiva', 'corrado',\n",
       "       'gt-r', 'terios', 'continental-gt', 'riviera', 'grace', 'ix20',\n",
       "       'urban-cruiser', 'qx80', '2120-nadezhda', 'peri', 'syrena', 'hs',\n",
       "       'genesis', 'sedona', 'bls', 'continental-flying-spur', 'ax7',\n",
       "       'pulsar', 'qubo', '2310', 'acadia', 'xt5', 'idea',\n",
       "       'passat-alltrack', 'evanda', 'z4', 'xb', 'expedition', 'captur',\n",
       "       'z300', 'giulietta', 'applause', 'firebird', 'armada', 'manta',\n",
       "       'f3', 'bongo', 'l300', 'mx-5', 'siena', '1300', '108', 'nv1500',\n",
       "       'mystique', 'dbs', 'ax', 'seville', 'rs3', 'smily', 'uplander',\n",
       "       'e-pace', '2138', '9-2x', 'cabrio', 'breeze', 'regal', 'levante',\n",
       "       'citigo', 'a19', '200sx', 'tager', '412', 'h2', 'scenic-xmod',\n",
       "       'starlet', '350', 'achieva', 'spacetourer', 'bonneville',\n",
       "       'tracker', 'laurel', 'fc-vision', 'vivio', 'xa', 'cinquecento',\n",
       "       'q8', 'rs5', '3102', 'mark-vii', 'thema', '180', 'voleex-c30',\n",
       "       'rs7', 'montego', 'mp4-12c'], dtype=object)"
      ]
     },
     "execution_count": 21,
     "metadata": {},
     "output_type": "execute_result"
    }
   ],
   "source": [
    "car_data['model'].unique()"
   ]
  },
  {
   "cell_type": "code",
   "execution_count": 40,
   "metadata": {
    "scrolled": true
   },
   "outputs": [
    {
     "name": "stderr",
     "output_type": "stream",
     "text": [
      "C:\\Users\\manoj\\anaconda3\\envs\\test_env\\lib\\site-packages\\seaborn\\_decorators.py:43: FutureWarning: Pass the following variable as a keyword arg: x. From version 0.12, the only valid positional argument will be `data`, and passing other arguments without an explicit keyword will result in an error or misinterpretation.\n",
      "  FutureWarning\n"
     ]
    },
    {
     "data": {
      "text/plain": [
       "(array([0, 1, 2, 3]),\n",
       " [Text(0, 0, 'front-wheel drive'),\n",
       "  Text(1, 0, 'all-wheel drive'),\n",
       "  Text(2, 0, 'part-time four-wheel drive'),\n",
       "  Text(3, 0, 'rear drive')])"
      ]
     },
     "execution_count": 40,
     "metadata": {},
     "output_type": "execute_result"
    },
    {
     "data": {
      "image/png": "[encoded data removed]",
      "text/plain": [
       "<Figure size 432x288 with 1 Axes>"
      ]
     },
     "metadata": {
      "needs_background": "light"
     },
     "output_type": "display_data"
    }
   ],
   "source": [
    "sns.countplot(car_data['drive_unit'])\n",
    "plt.xticks(rotation=30)"
   ]
  },
  {
   "cell_type": "code",
   "execution_count": 42,
   "metadata": {},
   "outputs": [
    {
     "data": {
      "text/plain": [
       "Index(['Unnamed: 0', 'make', 'model', 'priceUSD', 'year', 'condition',\n",
       "       'mileage(kilometers)', 'fuel_type', 'volume(cm3)', 'color',\n",
       "       'transmission', 'drive_unit', 'segment'],\n",
       "      dtype='object')"
      ]
     },
     "execution_count": 42,
     "metadata": {},
     "output_type": "execute_result"
    }
   ],
   "source": [
    "car_data.columns"
   ]
  },
  {
   "cell_type": "code",
   "execution_count": 129,
   "metadata": {},
   "outputs": [
    {
     "data": {
      "text/plain": [
       "<AxesSubplot:xlabel='volume(cm3)', ylabel='priceUSD'>"
      ]
     },
     "execution_count": 129,
     "metadata": {},
     "output_type": "execute_result"
    },
    {
     "data": {
      "image/png": "[encoded data removed]",
      "text/plain": [
       "<Figure size 432x288 with 1 Axes>"
      ]
     },
     "metadata": {
      "needs_background": "light"
     },
     "output_type": "display_data"
    }
   ],
   "source": [
    "sns.scatterplot(y='priceUSD',x='volume(cm3)',data=car_data)"
   ]
  },
  {
   "cell_type": "code",
   "execution_count": 56,
   "metadata": {},
   "outputs": [
    {
     "data": {
      "text/plain": [
       "with mileage    39337\n",
       "with damage       341\n",
       "for parts         322\n",
       "Name: condition, dtype: int64"
      ]
     },
     "execution_count": 56,
     "metadata": {},
     "output_type": "execute_result"
    }
   ],
   "source": [
    "car_data['condition'].value_counts()"
   ]
  },
  {
   "cell_type": "code",
   "execution_count": 58,
   "metadata": {},
   "outputs": [
    {
     "data": {
      "text/plain": [
       "<seaborn.axisgrid.FacetGrid at 0x246a1a5c7b8>"
      ]
     },
     "execution_count": 58,
     "metadata": {},
     "output_type": "execute_result"
    },
    {
     "data": {
      "image/png": "[encoded data removed]",
      "text/plain": [
       "<Figure size 1152x360 with 4 Axes>"
      ]
     },
     "metadata": {
      "needs_background": "light"
     },
     "output_type": "display_data"
    }
   ],
   "source": [
    "sns.catplot(x=\"condition\", col=\"drive_unit\", col_wrap=4,data=car_data,kind=\"count\", height=5, aspect=.8)"
   ]
  },
  {
   "cell_type": "code",
   "execution_count": 66,
   "metadata": {},
   "outputs": [
    {
     "data": {
      "text/plain": [
       "<seaborn.axisgrid.FacetGrid at 0x246a0362f60>"
      ]
     },
     "execution_count": 66,
     "metadata": {},
     "output_type": "execute_result"
    },
    {
     "data": {
      "image/png": "[encoded data removed]",
      "text/plain": [
       "<Figure size 360x360 with 1 Axes>"
      ]
     },
     "metadata": {
      "needs_background": "light"
     },
     "output_type": "display_data"
    }
   ],
   "source": [
    "sns.catplot(x=\"condition\", y=\"priceUSD\",data=car_data, kind=\"violin\")"
   ]
  },
  {
   "cell_type": "code",
   "execution_count": 69,
   "metadata": {},
   "outputs": [
    {
     "data": {
      "text/html": [
       "<div>\n",
       "<style scoped>\n",
       "    .dataframe tbody tr th:only-of-type {\n",
       "        vertical-align: middle;\n",
       "    }\n",
       "\n",
       "    .dataframe tbody tr th {\n",
       "        vertical-align: top;\n",
       "    }\n",
       "\n",
       "    .dataframe thead th {\n",
       "        text-align: right;\n",
       "    }\n",
       "</style>\n",
       "<table border=\"1\" class=\"dataframe\">\n",
       "  <thead>\n",
       "    <tr style=\"text-align: right;\">\n",
       "      <th></th>\n",
       "      <th>Unnamed: 0</th>\n",
       "      <th>make</th>\n",
       "      <th>model</th>\n",
       "      <th>priceUSD</th>\n",
       "      <th>year</th>\n",
       "      <th>condition</th>\n",
       "      <th>mileage(kilometers)</th>\n",
       "      <th>fuel_type</th>\n",
       "      <th>volume(cm3)</th>\n",
       "      <th>color</th>\n",
       "      <th>transmission</th>\n",
       "      <th>drive_unit</th>\n",
       "      <th>segment</th>\n",
       "    </tr>\n",
       "  </thead>\n",
       "  <tbody>\n",
       "    <tr>\n",
       "      <th>0</th>\n",
       "      <td>0</td>\n",
       "      <td>honda</td>\n",
       "      <td>accord</td>\n",
       "      <td>565</td>\n",
       "      <td>1993</td>\n",
       "      <td>with mileage</td>\n",
       "      <td>960015.0</td>\n",
       "      <td>petrol</td>\n",
       "      <td>2000.0</td>\n",
       "      <td>black</td>\n",
       "      <td>mechanics</td>\n",
       "      <td>front-wheel drive</td>\n",
       "      <td>D</td>\n",
       "    </tr>\n",
       "    <tr>\n",
       "      <th>1</th>\n",
       "      <td>1</td>\n",
       "      <td>ford</td>\n",
       "      <td>fusion</td>\n",
       "      <td>5550</td>\n",
       "      <td>2008</td>\n",
       "      <td>with mileage</td>\n",
       "      <td>172000.0</td>\n",
       "      <td>diesel</td>\n",
       "      <td>1400.0</td>\n",
       "      <td>silver</td>\n",
       "      <td>mechanics</td>\n",
       "      <td>front-wheel drive</td>\n",
       "      <td>M</td>\n",
       "    </tr>\n",
       "    <tr>\n",
       "      <th>2</th>\n",
       "      <td>2</td>\n",
       "      <td>nissan</td>\n",
       "      <td>teana</td>\n",
       "      <td>8300</td>\n",
       "      <td>2008</td>\n",
       "      <td>with mileage</td>\n",
       "      <td>223000.0</td>\n",
       "      <td>petrol</td>\n",
       "      <td>2500.0</td>\n",
       "      <td>purple</td>\n",
       "      <td>auto</td>\n",
       "      <td>front-wheel drive</td>\n",
       "      <td>D</td>\n",
       "    </tr>\n",
       "    <tr>\n",
       "      <th>3</th>\n",
       "      <td>3</td>\n",
       "      <td>volkswagen</td>\n",
       "      <td>fox</td>\n",
       "      <td>3300</td>\n",
       "      <td>2005</td>\n",
       "      <td>with mileage</td>\n",
       "      <td>140000.0</td>\n",
       "      <td>petrol</td>\n",
       "      <td>1200.0</td>\n",
       "      <td>blue</td>\n",
       "      <td>mechanics</td>\n",
       "      <td>front-wheel drive</td>\n",
       "      <td>A</td>\n",
       "    </tr>\n",
       "    <tr>\n",
       "      <th>4</th>\n",
       "      <td>4</td>\n",
       "      <td>nissan</td>\n",
       "      <td>primera</td>\n",
       "      <td>2450</td>\n",
       "      <td>2002</td>\n",
       "      <td>with damage</td>\n",
       "      <td>413000.0</td>\n",
       "      <td>diesel</td>\n",
       "      <td>2200.0</td>\n",
       "      <td>burgundy</td>\n",
       "      <td>mechanics</td>\n",
       "      <td>front-wheel drive</td>\n",
       "      <td>D</td>\n",
       "    </tr>\n",
       "  </tbody>\n",
       "</table>\n",
       "</div>"
      ],
      "text/plain": [
       "   Unnamed: 0        make    model  priceUSD  year     condition  \\\n",
       "0           0       honda   accord       565  1993  with mileage   \n",
       "1           1        ford   fusion      5550  2008  with mileage   \n",
       "2           2      nissan    teana      8300  2008  with mileage   \n",
       "3           3  volkswagen      fox      3300  2005  with mileage   \n",
       "4           4      nissan  primera      2450  2002   with damage   \n",
       "\n",
       "   mileage(kilometers) fuel_type  volume(cm3)     color transmission  \\\n",
       "0             960015.0    petrol       2000.0     black    mechanics   \n",
       "1             172000.0    diesel       1400.0    silver    mechanics   \n",
       "2             223000.0    petrol       2500.0    purple         auto   \n",
       "3             140000.0    petrol       1200.0      blue    mechanics   \n",
       "4             413000.0    diesel       2200.0  burgundy    mechanics   \n",
       "\n",
       "          drive_unit segment  \n",
       "0  front-wheel drive       D  \n",
       "1  front-wheel drive       M  \n",
       "2  front-wheel drive       D  \n",
       "3  front-wheel drive       A  \n",
       "4  front-wheel drive       D  "
      ]
     },
     "execution_count": 69,
     "metadata": {},
     "output_type": "execute_result"
    }
   ],
   "source": [
    "car_data.head()"
   ]
  },
  {
   "cell_type": "code",
   "execution_count": 73,
   "metadata": {},
   "outputs": [
    {
     "name": "stderr",
     "output_type": "stream",
     "text": [
      "C:\\Users\\manoj\\anaconda3\\envs\\test_env\\lib\\site-packages\\seaborn\\_decorators.py:43: FutureWarning: Pass the following variable as a keyword arg: x. From version 0.12, the only valid positional argument will be `data`, and passing other arguments without an explicit keyword will result in an error or misinterpretation.\n",
      "  FutureWarning\n"
     ]
    },
    {
     "data": {
      "text/plain": [
       "<AxesSubplot:xlabel='transmission', ylabel='count'>"
      ]
     },
     "execution_count": 73,
     "metadata": {},
     "output_type": "execute_result"
    },
    {
     "data": {
      "image/png": "[encoded data removed]",
      "text/plain": [
       "<Figure size 432x288 with 1 Axes>"
      ]
     },
     "metadata": {
      "needs_background": "light"
     },
     "output_type": "display_data"
    }
   ],
   "source": [
    "sns.countplot(car_data['transmission'])"
   ]
  },
  {
   "cell_type": "code",
   "execution_count": 79,
   "metadata": {},
   "outputs": [
    {
     "data": {
      "text/plain": [
       "Unnamed: 0             False\n",
       "make                   False\n",
       "model                  False\n",
       "priceUSD               False\n",
       "year                   False\n",
       "condition              False\n",
       "mileage(kilometers)    False\n",
       "fuel_type              False\n",
       "volume(cm3)             True\n",
       "color                  False\n",
       "transmission           False\n",
       "drive_unit              True\n",
       "segment                 True\n",
       "dtype: bool"
      ]
     },
     "execution_count": 79,
     "metadata": {},
     "output_type": "execute_result"
    }
   ],
   "source": [
    "car_data.isna().any()"
   ]
  },
  {
   "cell_type": "code",
   "execution_count": 80,
   "metadata": {
    "scrolled": true
   },
   "outputs": [
    {
     "name": "stderr",
     "output_type": "stream",
     "text": [
      "C:\\Users\\manoj\\anaconda3\\envs\\test_env\\lib\\site-packages\\seaborn\\distributions.py:2551: FutureWarning: `distplot` is a deprecated function and will be removed in a future version. Please adapt your code to use either `displot` (a figure-level function with similar flexibility) or `histplot` (an axes-level function for histograms).\n",
      "  warnings.warn(msg, FutureWarning)\n"
     ]
    },
    {
     "data": {
      "text/plain": [
       "<AxesSubplot:xlabel='volume(cm3)', ylabel='Density'>"
      ]
     },
     "execution_count": 80,
     "metadata": {},
     "output_type": "execute_result"
    },
    {
     "data": {
      "image/png": "[encoded data removed]",
      "text/plain": [
       "<Figure size 432x288 with 1 Axes>"
      ]
     },
     "metadata": {
      "needs_background": "light"
     },
     "output_type": "display_data"
    }
   ],
   "source": [
    "sns.distplot(car_data['volume(cm3)'])"
   ]
  },
  {
   "cell_type": "code",
   "execution_count": 128,
   "metadata": {},
   "outputs": [
    {
     "data": {
      "text/plain": [
       "<seaborn.axisgrid.FacetGrid at 0x246a5837da0>"
      ]
     },
     "execution_count": 128,
     "metadata": {},
     "output_type": "execute_result"
    },
    {
     "data": {
      "image/png": "[encoded data removed]",
      "text/plain": [
       "<Figure size 360x360 with 1 Axes>"
      ]
     },
     "metadata": {
      "needs_background": "light"
     },
     "output_type": "display_data"
    }
   ],
   "source": [
    "sns.catplot(x=\"segment\", y=\"priceUSD\",data=car_data)"
   ]
  },
  {
   "cell_type": "markdown",
   "metadata": {},
   "source": [
    "#### FILL NAN VALUES"
   ]
  },
  {
   "cell_type": "code",
   "execution_count": 93,
   "metadata": {},
   "outputs": [
    {
     "name": "stdout",
     "output_type": "stream",
     "text": [
      "no of nan values in volume(cm3) feature --> 30\n"
     ]
    }
   ],
   "source": [
    "print('no of nan values in volume(cm3) feature -->',car_data['volume(cm3)'].isna().sum())\n",
    "car_data['volume(cm3)'].fillna(2103.201676257193,inplace=True)\n"
   ]
  },
  {
   "cell_type": "code",
   "execution_count": 109,
   "metadata": {},
   "outputs": [
    {
     "name": "stdout",
     "output_type": "stream",
     "text": [
      "no of nan values in segment feature --> 3755\n"
     ]
    }
   ],
   "source": [
    "z=car_data['segment'].mode()\n",
    "print('no of nan values in segment feature -->',car_data['segment'].isna().sum())\n",
    "car_data['segment'].fillna(z[0],inplace=True)"
   ]
  },
  {
   "cell_type": "code",
   "execution_count": 121,
   "metadata": {},
   "outputs": [
    {
     "name": "stdout",
     "output_type": "stream",
     "text": [
      "no of nan values in drive_unit feature --> 1345\n"
     ]
    }
   ],
   "source": [
    "z=car_data['drive_unit'].mode()[0]\n",
    "print('no of nan values in drive_unit feature -->',car_data['drive_unit'].isna().sum())\n",
    "car_data['drive_unit'].fillna(z,inplace=True)"
   ]
  },
  {
   "cell_type": "markdown",
   "metadata": {},
   "source": [
    "#### STATSTICAL TESTS"
   ]
  },
  {
   "cell_type": "code",
   "execution_count": 130,
   "metadata": {},
   "outputs": [],
   "source": [
    "from scipy import stats"
   ]
  },
  {
   "cell_type": "code",
   "execution_count": 134,
   "metadata": {
    "scrolled": true
   },
   "outputs": [
    {
     "name": "stdout",
     "output_type": "stream",
     "text": [
      "Ttest_indResult(statistic=126.97556625299858, pvalue=0.0)\n",
      "Ttest_indResult(statistic=-148.98555715505074, pvalue=0.0)\n"
     ]
    }
   ],
   "source": [
    "# T-Test\n",
    "\n",
    "print(stats.ttest_ind(car_data['priceUSD'],car_data['volume(cm3)']))\n",
    "print(stats.ttest_ind(car_data['priceUSD'],car_data['mileage(kilometers)']))\n"
   ]
  },
  {
   "cell_type": "code",
   "execution_count": 163,
   "metadata": {},
   "outputs": [],
   "source": [
    "car_data_cat=pd.DataFrame()\n",
    "for i in car_data.select_dtypes(include='object').columns:\n",
    "    label_encode=LabelEncoder()\n",
    "    car_data_cat[i]=label_encode.fit_transform(car_data[i])\n",
    "    "
   ]
  },
  {
   "cell_type": "code",
   "execution_count": 164,
   "metadata": {},
   "outputs": [
    {
     "data": {
      "text/plain": [
       "passat      1532\n",
       "5-seriya    1003\n",
       "a6           896\n",
       "golf         783\n",
       "astra        698\n",
       "            ... \n",
       "pulsar         1\n",
       "1302           1\n",
       "clio-rs        1\n",
       "xg             1\n",
       "bx             1\n",
       "Name: model, Length: 991, dtype: int64"
      ]
     },
     "execution_count": 164,
     "metadata": {},
     "output_type": "execute_result"
    }
   ],
   "source": [
    "car_data['model'].value_counts()"
   ]
  },
  {
   "cell_type": "code",
   "execution_count": 165,
   "metadata": {},
   "outputs": [],
   "source": [
    "car_data_cont=car_data.select_dtypes(exclude='object').drop(columns=['Unnamed: 0'])"
   ]
  },
  {
   "cell_type": "code",
   "execution_count": 166,
   "metadata": {},
   "outputs": [
    {
     "data": {
      "text/html": [
       "<div>\n",
       "<style scoped>\n",
       "    .dataframe tbody tr th:only-of-type {\n",
       "        vertical-align: middle;\n",
       "    }\n",
       "\n",
       "    .dataframe tbody tr th {\n",
       "        vertical-align: top;\n",
       "    }\n",
       "\n",
       "    .dataframe thead th {\n",
       "        text-align: right;\n",
       "    }\n",
       "</style>\n",
       "<table border=\"1\" class=\"dataframe\">\n",
       "  <thead>\n",
       "    <tr style=\"text-align: right;\">\n",
       "      <th></th>\n",
       "      <th>priceUSD</th>\n",
       "      <th>year</th>\n",
       "      <th>mileage(kilometers)</th>\n",
       "      <th>volume(cm3)</th>\n",
       "    </tr>\n",
       "  </thead>\n",
       "  <tbody>\n",
       "    <tr>\n",
       "      <th>0</th>\n",
       "      <td>565</td>\n",
       "      <td>1993</td>\n",
       "      <td>960015.0</td>\n",
       "      <td>2000.0</td>\n",
       "    </tr>\n",
       "    <tr>\n",
       "      <th>1</th>\n",
       "      <td>5550</td>\n",
       "      <td>2008</td>\n",
       "      <td>172000.0</td>\n",
       "      <td>1400.0</td>\n",
       "    </tr>\n",
       "    <tr>\n",
       "      <th>2</th>\n",
       "      <td>8300</td>\n",
       "      <td>2008</td>\n",
       "      <td>223000.0</td>\n",
       "      <td>2500.0</td>\n",
       "    </tr>\n",
       "    <tr>\n",
       "      <th>3</th>\n",
       "      <td>3300</td>\n",
       "      <td>2005</td>\n",
       "      <td>140000.0</td>\n",
       "      <td>1200.0</td>\n",
       "    </tr>\n",
       "    <tr>\n",
       "      <th>4</th>\n",
       "      <td>2450</td>\n",
       "      <td>2002</td>\n",
       "      <td>413000.0</td>\n",
       "      <td>2200.0</td>\n",
       "    </tr>\n",
       "    <tr>\n",
       "      <th>...</th>\n",
       "      <td>...</td>\n",
       "      <td>...</td>\n",
       "      <td>...</td>\n",
       "      <td>...</td>\n",
       "    </tr>\n",
       "    <tr>\n",
       "      <th>39995</th>\n",
       "      <td>12500</td>\n",
       "      <td>2008</td>\n",
       "      <td>214000.0</td>\n",
       "      <td>3700.0</td>\n",
       "    </tr>\n",
       "    <tr>\n",
       "      <th>39996</th>\n",
       "      <td>4754</td>\n",
       "      <td>2001</td>\n",
       "      <td>295000.0</td>\n",
       "      <td>2200.0</td>\n",
       "    </tr>\n",
       "    <tr>\n",
       "      <th>39997</th>\n",
       "      <td>4000</td>\n",
       "      <td>1999</td>\n",
       "      <td>0.0</td>\n",
       "      <td>2200.0</td>\n",
       "    </tr>\n",
       "    <tr>\n",
       "      <th>39998</th>\n",
       "      <td>1200</td>\n",
       "      <td>1996</td>\n",
       "      <td>250000.0</td>\n",
       "      <td>1300.0</td>\n",
       "    </tr>\n",
       "    <tr>\n",
       "      <th>39999</th>\n",
       "      <td>744</td>\n",
       "      <td>1986</td>\n",
       "      <td>272344.0</td>\n",
       "      <td>1997.0</td>\n",
       "    </tr>\n",
       "  </tbody>\n",
       "</table>\n",
       "<p>40000 rows × 4 columns</p>\n",
       "</div>"
      ],
      "text/plain": [
       "       priceUSD  year  mileage(kilometers)  volume(cm3)\n",
       "0           565  1993             960015.0       2000.0\n",
       "1          5550  2008             172000.0       1400.0\n",
       "2          8300  2008             223000.0       2500.0\n",
       "3          3300  2005             140000.0       1200.0\n",
       "4          2450  2002             413000.0       2200.0\n",
       "...         ...   ...                  ...          ...\n",
       "39995     12500  2008             214000.0       3700.0\n",
       "39996      4754  2001             295000.0       2200.0\n",
       "39997      4000  1999                  0.0       2200.0\n",
       "39998      1200  1996             250000.0       1300.0\n",
       "39999       744  1986             272344.0       1997.0\n",
       "\n",
       "[40000 rows x 4 columns]"
      ]
     },
     "execution_count": 166,
     "metadata": {},
     "output_type": "execute_result"
    }
   ],
   "source": [
    "car_data_cont"
   ]
  },
  {
   "cell_type": "code",
   "execution_count": 221,
   "metadata": {},
   "outputs": [],
   "source": [
    "car_data_=pd.concat([car_data_cont.drop(columns=['year']),car_data_cat],axis=1)"
   ]
  },
  {
   "cell_type": "code",
   "execution_count": 222,
   "metadata": {},
   "outputs": [],
   "source": [
    "X=car_data_.drop(columns=['priceUSD'])\n",
    "y=car_data_['priceUSD']"
   ]
  },
  {
   "cell_type": "code",
   "execution_count": 223,
   "metadata": {},
   "outputs": [],
   "source": [
    "X_train,X_test,y_train,y_test=train_test_split(X,y,test_size=0.33,random_state=42)"
   ]
  },
  {
   "cell_type": "code",
   "execution_count": 224,
   "metadata": {},
   "outputs": [],
   "source": [
    "# without scaling the data\n",
    "from sklearn.neighbors import KNeighborsRegressor\n",
    "knr=KNeighborsRegressor()\n",
    "knr.fit(X_train,y_train)\n",
    "pred=knr.predict(X_test)"
   ]
  },
  {
   "cell_type": "code",
   "execution_count": 225,
   "metadata": {},
   "outputs": [
    {
     "name": "stdout",
     "output_type": "stream",
     "text": [
      "3738.1112121212122 46766027.317727275\n"
     ]
    }
   ],
   "source": [
    "from sklearn.metrics import mean_absolute_error,mean_squared_error\n",
    "print(mean_absolute_error(y_test,pred),mean_squared_error(y_test,pred))"
   ]
  },
  {
   "cell_type": "code",
   "execution_count": 226,
   "metadata": {},
   "outputs": [],
   "source": [
    "# with scaling the data\n",
    "scaler=StandardScaler()\n",
    "scaler.fit(X_train)\n",
    "X_tr=scaler.transform(X_train)\n",
    "X_ts=scaler.transform(X_test)"
   ]
  },
  {
   "cell_type": "code",
   "execution_count": 227,
   "metadata": {},
   "outputs": [],
   "source": [
    "knr=KNeighborsRegressor()\n",
    "knr.fit(X_tr,y_train)\n",
    "pred=knr.predict(X_ts)"
   ]
  },
  {
   "cell_type": "code",
   "execution_count": 228,
   "metadata": {},
   "outputs": [
    {
     "name": "stdout",
     "output_type": "stream",
     "text": [
      "2675.586863636363 34384890.03148182\n"
     ]
    }
   ],
   "source": [
    "print(mean_absolute_error(y_test,pred),mean_squared_error(y_test,pred))"
   ]
  },
  {
   "cell_type": "code",
   "execution_count": 229,
   "metadata": {},
   "outputs": [],
   "source": [
    "from sklearn.linear_model import LinearRegression\n",
    "linear=LinearRegression()\n",
    "linear.fit(X_train,y_train)\n",
    "pred=linear.predict(X_test)"
   ]
  },
  {
   "cell_type": "code",
   "execution_count": 230,
   "metadata": {
    "scrolled": false
   },
   "outputs": [
    {
     "name": "stdout",
     "output_type": "stream",
     "text": [
      "4104.654754520462 54828991.82445712\n"
     ]
    }
   ],
   "source": [
    "print(mean_absolute_error(y_test,pred),mean_squared_error(y_test,pred))"
   ]
  },
  {
   "cell_type": "code",
   "execution_count": 231,
   "metadata": {
    "scrolled": true
   },
   "outputs": [
    {
     "name": "stdout",
     "output_type": "stream",
     "text": [
      "4104.438400860006 54829199.16295456\n"
     ]
    }
   ],
   "source": [
    "from sklearn.linear_model import Ridge\n",
    "ridge=Ridge(alpha=10.0)\n",
    "ridge.fit(X_train,y_train)\n",
    "pred=ridge.predict(X_test)\n",
    "print(mean_absolute_error(y_test,pred),mean_squared_error(y_test,pred))"
   ]
  },
  {
   "cell_type": "code",
   "execution_count": 232,
   "metadata": {},
   "outputs": [
    {
     "name": "stdout",
     "output_type": "stream",
     "text": [
      "4104.368443822923 54829139.141033255\n"
     ]
    }
   ],
   "source": [
    "from sklearn.linear_model import Lasso\n",
    "lasso=Lasso()\n",
    "lasso.fit(X_train,y_train)\n",
    "pred=lasso.predict(X_test)\n",
    "print(mean_absolute_error(y_test,pred),mean_squared_error(y_test,pred))"
   ]
  },
  {
   "cell_type": "code",
   "execution_count": 233,
   "metadata": {},
   "outputs": [],
   "source": [
    "from sklearn.svm import SVR\n",
    "svr=SVR(kernel='linear')\n",
    "svr.fit(X_tr,y_train)\n",
    "pred=svr.predict(X_ts)"
   ]
  },
  {
   "cell_type": "code",
   "execution_count": 234,
   "metadata": {},
   "outputs": [
    {
     "name": "stdout",
     "output_type": "stream",
     "text": [
      "3901.6305703352086 59943593.060330756\n"
     ]
    }
   ],
   "source": [
    "print(mean_absolute_error(y_test,pred),mean_squared_error(y_test,pred))"
   ]
  },
  {
   "cell_type": "code",
   "execution_count": 195,
   "metadata": {},
   "outputs": [],
   "source": [
    "svr=SVR()\n",
    "svr.fit(X_train,y_train)\n",
    "pred=svr.predict(X_test)"
   ]
  },
  {
   "cell_type": "code",
   "execution_count": 196,
   "metadata": {},
   "outputs": [
    {
     "name": "stdout",
     "output_type": "stream",
     "text": [
      "4705.702388275908 75172590.48455845\n"
     ]
    }
   ],
   "source": [
    "print(mean_absolute_error(y_test,pred),mean_squared_error(y_test,pred))"
   ]
  },
  {
   "cell_type": "code",
   "execution_count": 220,
   "metadata": {},
   "outputs": [
    {
     "name": "stdout",
     "output_type": "stream",
     "text": [
      "1244.0054262824676 14006718.297828456\n"
     ]
    }
   ],
   "source": [
    "from sklearn.ensemble import RandomForestRegressor\n",
    "rand_forest=RandomForestRegressor()\n",
    "rand_forest.fit(X_train,y_train)\n",
    "pred=rand_forest.predict(X_test)\n",
    "print(mean_absolute_error(y_test,pred),mean_squared_error(y_test,pred))"
   ]
  },
  {
   "cell_type": "code",
   "execution_count": 237,
   "metadata": {},
   "outputs": [
    {
     "data": {
      "text/plain": [
       "'1.18.0'"
      ]
     },
     "execution_count": 237,
     "metadata": {},
     "output_type": "execute_result"
    }
   ],
   "source": [
    "np.version.version"
   ]
  },
  {
   "cell_type": "code",
   "execution_count": null,
   "metadata": {},
   "outputs": [],
   "source": []
  }
 ],
 "metadata": {
  "kernelspec": {
   "display_name": "Python 3",
   "language": "python",
   "name": "python3"
  },
  "language_info": {
   "codemirror_mode": {
    "name": "ipython",
    "version": 3
   },
   "file_extension": ".py",
   "mimetype": "text/x-python",
   "name": "python",
   "nbconvert_exporter": "python",
   "pygments_lexer": "ipython3",
   "version": "3.6.3"
  }
 },
 "nbformat": 4,
 "nbformat_minor": 2
}
